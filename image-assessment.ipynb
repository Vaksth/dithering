{
 "cells": [
  {
   "cell_type": "markdown",
   "metadata": {},
   "source": [
    "# Display images side by side"
   ]
  },
  {
   "cell_type": "markdown",
   "metadata": {},
   "source": [
    "This file is a tool for the qualitative human assessment of the images. All the compressed images are loaded in both k-means/dithered and JPG formats. These are then displayed side by side in a reasonable DPI (=200) allowing for quick comparison and assessment."
   ]
  },
  {
   "cell_type": "code",
   "execution_count": null,
   "metadata": {},
   "outputs": [],
   "source": [
    "import os\n",
    "from imageio import imread\n",
    "import numpy as np\n",
    "from skimage.color import rgb2lab, lab2rgb\n",
    "from skimage.transform import rescale\n",
    "from sklearn.metrics.pairwise import euclidean_distances\n",
    "import matplotlib.pyplot as plt\n",
    "from PIL import Image"
   ]
  },
  {
   "cell_type": "code",
   "execution_count": null,
   "metadata": {},
   "outputs": [],
   "source": [
    "def count_files(load_path):\n",
    "    files = [f for f in os.listdir(load_path) if os.path.isfile(os.path.join(load_path, f))]\n",
    "    num_files = len(files)\n",
    "    return num_files\n",
    "\n",
    "def count_folders(load_path):\n",
    "    folders = [f for f in os.listdir(load_path) if os.path.isdir(os.path.join(load_path, f))]\n",
    "    num_folders = len(folders)\n",
    "    return num_folders"
   ]
  },
  {
   "cell_type": "code",
   "execution_count": null,
   "metadata": {},
   "outputs": [],
   "source": [
    "def display_images_side_by_side(image1_array, image2_array, title1='Image 1', title2='Image 2', dpi=100):\n",
    "\n",
    "    image1 = Image.fromarray(np.uint8(image1_array))\n",
    "    image2 = Image.fromarray(np.uint8(image2_array))\n",
    "\n",
    "    fig, axes = plt.subplots(1, 2, figsize=(10, 5), dpi=dpi)\n",
    "\n",
    "    axes[0].imshow(image1)\n",
    "    axes[0].set_title(title1)\n",
    "    axes[0].axis('off')\n",
    "\n",
    "    axes[1].imshow(image2)\n",
    "    axes[1].set_title(title2)\n",
    "    axes[1].axis('off')\n"
   ]
  },
  {
   "cell_type": "code",
   "execution_count": null,
   "metadata": {},
   "outputs": [],
   "source": [
    "from imageio import imread\n",
    "\n",
    "# This is the main path used to reference the destinationfolder for the workspace.\n",
    "#uncompressed_path = f'C:/Users/Lenovo/Desktop/DTU/1. semester/Introduktion til Intelligente Systemer/Eksamen/3-ugers projekt/Woopwoopwoop/Woopwoopwoop/NyePoly'\n",
    "uncompressed_path = f'C:/Users/Lenovo/Desktop/DTU/1. semester/Introduktion til Intelligente Systemer/Eksamen/3-ugers projekt/woopwoop/woopwoop/BMP'\n",
    "#uncompressed_path = f'C:/Users/Lenovo/Desktop/DTU/1. semester/Introduktion til Intelligente Systemer/Eksamen/3-ugers projekt/EkstraBMPbilleder/EkstraBMPbilleder/BMPekstra'\n",
    "\n",
    "for i in range(count_folders(uncompressed_path)):\n",
    "    dither_path = f'{uncompressed_path}/BMPImage ({i+1})/dithered_imgBMPimage ({i+1}).bmp'\n",
    "    jpg_path = f'{uncompressed_path}/BMPImage ({i+1})/jpg_imgBMPimage ({i+1}).jpg'\n",
    "    \n",
    "    #dither_path = f'{uncompressed_path}/Polydyr ({i+1})/dithered_imgPolydyr ({i+1}).png'\n",
    "    #jpg_path = f'{uncompressed_path}/Polydyr ({i+1})/jpg_imgPolydyr ({i+1}).jpg'\n",
    "\n",
    "    #dither_path = f'{uncompressed_path}/BMPekstra ({i+1})/dithered_imgBMPekstra ({i+1}).bmp'\n",
    "    #jpg_path = f'{uncompressed_path}/BMPekstra ({i+1})/jpg_imgBMPekstra ({i+1}).jpg'\n",
    "\n",
    "    dither = imread(dither_path)\n",
    "    jpg = imread(jpg_path)\n",
    "\n",
    "    # Display images side by side\n",
    "    plt.figure(figsize=(10, 5), dpi=200)\n",
    "\n",
    "    plt.subplot(1, 2, 1)\n",
    "    plt.imshow(dither)\n",
    "    plt.title(f'dithered_imgBMPimage ({i+1}).bmp')\n",
    "    plt.axis('off')\n",
    "\n",
    "    plt.subplot(1, 2, 2)\n",
    "    plt.imshow(jpg)\n",
    "    plt.title(f'jpg_imgBMPimage ({i+1}).jpg')\n",
    "    plt.axis('off')\n",
    "\n",
    "    plt.show()"
   ]
  }
 ],
 "metadata": {
  "kernelspec": {
   "display_name": "3week24_venv",
   "language": "python",
   "name": "python3"
  },
  "language_info": {
   "codemirror_mode": {
    "name": "ipython",
    "version": 3
   },
   "file_extension": ".py",
   "mimetype": "text/x-python",
   "name": "python",
   "nbconvert_exporter": "python",
   "pygments_lexer": "ipython3",
   "version": "3.11.5"
  }
 },
 "nbformat": 4,
 "nbformat_minor": 2
}
